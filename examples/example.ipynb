{
 "cells": [
  {
   "cell_type": "code",
   "execution_count": 1,
   "metadata": {},
   "outputs": [],
   "source": [
    "from ipyquizjb.faceit import display_simple_search\n",
    "from ipyquizjb import display_json\n",
    "\n",
    "#display_simple_search(\"math\", 2)"
   ]
  },
  {
   "cell_type": "code",
   "execution_count": null,
   "metadata": {},
   "outputs": [
    {
     "data": {
      "text/html": [
       "<script>\n",
       "                 if (MathJax.version.startsWith(\"3\")) {\n",
       "                    MathJax.typeset() \n",
       "                 } else {\n",
       "                 MathJax.Hub.Queue(['Typeset', MathJax.Hub]);\n",
       "                 }\n",
       "                 </script>"
      ],
      "text/plain": [
       "<IPython.core.display.HTML object>"
      ]
     },
     "metadata": {},
     "output_type": "display_data"
    },
    {
     "name": "stdout",
     "output_type": "stream",
     "text": [
      "VBox(children=(HTMLMath(value='<h3>What is the derivative of \\\\( \\\\sin(x) \\\\)?</h3>'), HTMLMath(value='<p></p>'), VBox(children=(HTMLMath(value='1: \\\\( -\\\\cos(x) \\\\).'), HTMLMath(value='2: \\\\( \\\\tan(x) \\\\).'), HTMLMath(value='3: \\\\( \\\\cos(x) \\\\).'))), HBox(children=(HTML(value='Select your answer:'), ToggleButtons(_dom_classes=('ipyquizjb-option-button',), options=(('1', '\\\\( -\\\\cos(x) \\\\).'), ('2', '\\\\( \\\\tan(x) \\\\).'), ('3', '\\\\( \\\\cos(x) \\\\).')), style=ToggleButtonsStyle(button_width='auto'), value=None)), layout=Layout(padding='10px 20px 10px 0px')), VBox(children=(Button(description='Check answer', icon='check', style=ButtonStyle(button_color='lightgreen')), Output()), layout=Layout(margin='10px 10px 0px 0px'))))\n"
     ]
    },
    {
     "data": {
      "application/vnd.jupyter.widget-view+json": {
       "model_id": "037535c67a3b43b083db8ff982a570c1",
       "version_major": 2,
       "version_minor": 0
      },
      "text/plain": [
       "VBox(children=(HTMLMath(value='<h3>What is the derivative of \\\\( \\\\sin(x) \\\\)?</h3>'), HTMLMath(value='<p></p>…"
      ]
     },
     "metadata": {},
     "output_type": "display_data"
    },
    {
     "name": "stdout",
     "output_type": "stream",
     "text": [
      "VBox(children=(HTMLMath(value=\"<h3>What's the derivative of z (z'), with respect to x, of z = 4y+x?</h3>\"), HTMLMath(value='<p></p>'), HBox(children=(HTML(value='Select your answer:'), FloatText(value=0.0)), layout=Layout(padding='10px 20px 10px 0px')), VBox(children=(Button(description='Check answer', icon='check', style=ButtonStyle(button_color='lightgreen')), Output()), layout=Layout(margin='10px 10px 0px 0px'))))\n"
     ]
    },
    {
     "data": {
      "application/vnd.jupyter.widget-view+json": {
       "model_id": "148987f8d2434e948daeb0ac3a6bc51d",
       "version_major": 2,
       "version_minor": 0
      },
      "text/plain": [
       "VBox(children=(HTMLMath(value=\"<h3>What's the derivative of z (z'), with respect to x, of z = 4y+x?</h3>\"), HT…"
      ]
     },
     "metadata": {},
     "output_type": "display_data"
    },
    {
     "data": {
      "text/html": [
       "<script>\n",
       "for (button of document.getElementsByClassName(\"ipyquizjb-option-button\")) {\n",
       "\tMathJax.Hub.Queue(['Typeset', MathJax.Hub, button])\n",
       "}\n",
       "</script>"
      ],
      "text/plain": [
       "<IPython.core.display.HTML object>"
      ]
     },
     "metadata": {},
     "output_type": "display_data"
    }
   ],
   "source": [
    "test_json = r\"\"\"{\n",
    "  \"questions\": [\n",
    "    {\n",
    "      \"type\": \"MULTIPLE_CHOICE\",\n",
    "      \"body\": \"What is the derivative of \\\\( \\\\sin(x) \\\\)?\",\n",
    "      \"answers\": [\n",
    "        \"\\\\( -\\\\cos(x) \\\\).\",\n",
    "        \"\\\\( \\\\tan(x) \\\\).\",\n",
    "        \"\\\\( \\\\cos(x) \\\\).\"\n",
    "      ],\n",
    "      \"answer\": [\"\\\\( \\\\cos(x) \\\\).\"],\n",
    "      \"notes\": [\"The derivative of \\\\( \\\\sin(x) \\\\) is \\\\( \\\\cos(x) \\\\).\"]\n",
    "    },\n",
    "    {\n",
    "      \"type\": \"NUMERIC\",\n",
    "      \"body\": \"What's the derivative of z (z'), with respect to x, of z = 4y+x?\",\n",
    "      \"answer\": \"1\",\n",
    "      \"notes\": []\n",
    "    }\n",
    "  ],\n",
    "  \"status\": \"success\"\n",
    "}\"\"\"\n",
    "\n",
    "display_json(test_json)"
   ]
  },
  {
   "cell_type": "code",
   "execution_count": 3,
   "metadata": {},
   "outputs": [
    {
     "data": {
      "text/html": [
       "<script>\n",
       "                 if (MathJax.version.startsWith(\"3\")) {\n",
       "                    MathJax.typeset() \n",
       "                 } else {\n",
       "                 MathJax.Hub.Queue(['Typeset', MathJax.Hub]);\n",
       "                 }\n",
       "                 </script>"
      ],
      "text/plain": [
       "<IPython.core.display.HTML object>"
      ]
     },
     "metadata": {},
     "output_type": "display_data"
    },
    {
     "data": {
      "application/vnd.jupyter.widget-view+json": {
       "model_id": "543852af61044c4dbec928c01799c3cd",
       "version_major": 2,
       "version_minor": 0
      },
      "text/plain": [
       "VBox(children=(HTMLMath(value='<h3>Si consideri il segnale a tempo continuo $x(t)$ della seguente figura, dove…"
      ]
     },
     "metadata": {},
     "output_type": "display_data"
    },
    {
     "data": {
      "application/vnd.jupyter.widget-view+json": {
       "model_id": "fd82e7618ddb42d6a5e5cad746fd1c13",
       "version_major": 2,
       "version_minor": 0
      },
      "text/plain": [
       "VBox(children=(HTMLMath(value='<h3>Si consideri lo schema a blocchi mostrato nella figura sotto, e si supponga…"
      ]
     },
     "metadata": {},
     "output_type": "display_data"
    },
    {
     "data": {
      "text/html": [
       "<script>\n",
       "for (button of document.getElementsByClassName(\"ipyquizjb-option-button\")) {\n",
       "\tMathJax.Hub.Queue(['Typeset', MathJax.Hub, button])\n",
       "}\n",
       "</script>"
      ],
      "text/plain": [
       "<IPython.core.display.HTML object>"
      ]
     },
     "metadata": {},
     "output_type": "display_data"
    }
   ],
   "source": [
    "display_simple_search(\"consideri\", 2)\n",
    "\n"
   ]
  }
 ],
 "metadata": {
  "kernelspec": {
   "display_name": ".venv",
   "language": "python",
   "name": "python3"
  },
  "language_info": {
   "codemirror_mode": {
    "name": "ipython",
    "version": 3
   },
   "file_extension": ".py",
   "mimetype": "text/x-python",
   "name": "python",
   "nbconvert_exporter": "python",
   "pygments_lexer": "ipython3",
   "version": "3.12.1"
  }
 },
 "nbformat": 4,
 "nbformat_minor": 2
}
