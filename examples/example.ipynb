{
 "cells": [
  {
   "cell_type": "code",
   "execution_count": 1,
   "metadata": {},
   "outputs": [],
   "source": [
    "from ipyquizjb.faceit import display_simple_search\n",
    "\n",
    "#display_simple_search(\"math\", 2)"
   ]
  },
  {
   "cell_type": "code",
   "execution_count": 2,
   "metadata": {},
   "outputs": [
    {
     "name": "stdout",
     "output_type": "stream",
     "text": [
      "None\n",
      "TEXT\n"
     ]
    },
    {
     "data": {
      "application/vnd.jupyter.widget-view+json": {
       "model_id": "0fa26d3ad9ac4cbc9d71866d5f429e14",
       "version_major": 2,
       "version_minor": 0
      },
      "text/plain": [
       "Output()"
      ]
     },
     "metadata": {},
     "output_type": "display_data"
    }
   ],
   "source": [
    "display_simple_search(\"consideri\", 2)"
   ]
  },
  {
   "cell_type": "code",
   "execution_count": null,
   "metadata": {},
   "outputs": [
    {
     "name": "stdout",
     "output_type": "stream",
     "text": [
      "This is a text additional material.\n",
      "TEXT\n"
     ]
    },
    {
     "data": {
      "application/vnd.jupyter.widget-view+json": {
       "model_id": "eb922c6569f64ebe8d5bed1c40532e0e",
       "version_major": 2,
       "version_minor": 0
      },
      "text/plain": [
       "Output()"
      ]
     },
     "metadata": {},
     "output_type": "display_data"
    },
    {
     "name": "stdout",
     "output_type": "stream",
     "text": [
      "test1\n",
      "[{'type': 'TEXT', 'body': 'Is this a text answer?', 'notes': ['Yes']}, {'type': 'NUMERIC', 'body': \"What's the derivative of z (z'), with respect to x, of z = 4y+x?\", 'answer': '1', 'notes': []}, {'type': 'MULTIPLE_CHOICE', 'body': 'What is the derivative of \\\\( \\\\sin(x) \\\\)?', 'answers': ['\\\\( -\\\\cos(x) \\\\).', '\\\\( \\\\tan(x) \\\\).', '\\\\( \\\\cos(x) \\\\).'], 'answer': ['\\\\( \\\\cos(x) \\\\).'], 'notes': ['The derivative of \\\\( \\\\sin(x) \\\\) is \\\\( \\\\cos(x) \\\\).']}]\n"
     ]
    },
    {
     "name": "stdout",
     "output_type": "stream",
     "text": [
      "test1\n",
      "[{'type': 'NUMERIC', 'body': \"What's the derivative of z (z'), with respect to x, of z = 4y+x?\", 'answer': '1', 'notes': []}, {'type': 'TEXT', 'body': 'Is this a text answer?', 'notes': ['Yes']}, {'type': 'MULTIPLE_CHOICE', 'body': 'What is the derivative of \\\\( \\\\sin(x) \\\\)?', 'answers': ['\\\\( -\\\\cos(x) \\\\).', '\\\\( \\\\tan(x) \\\\).', '\\\\( \\\\cos(x) \\\\).'], 'answer': ['\\\\( \\\\cos(x) \\\\).'], 'notes': ['The derivative of \\\\( \\\\sin(x) \\\\) is \\\\( \\\\cos(x) \\\\).']}]\n"
     ]
    },
    {
     "name": "stdout",
     "output_type": "stream",
     "text": [
      "test1\n",
      "[{'type': 'MULTIPLE_CHOICE', 'body': 'What is the derivative of \\\\( \\\\sin(x) \\\\)?', 'answers': ['\\\\( -\\\\cos(x) \\\\).', '\\\\( \\\\tan(x) \\\\).', '\\\\( \\\\cos(x) \\\\).'], 'answer': ['\\\\( \\\\cos(x) \\\\).'], 'notes': ['The derivative of \\\\( \\\\sin(x) \\\\) is \\\\( \\\\cos(x) \\\\).']}, {'type': 'NUMERIC', 'body': \"What's the derivative of z (z'), with respect to x, of z = 4y+x?\", 'answer': '1', 'notes': []}, {'type': 'TEXT', 'body': 'Is this a text answer?', 'notes': ['Yes']}]\n"
     ]
    },
    {
     "name": "stdout",
     "output_type": "stream",
     "text": [
      "test1\n",
      "[{'type': 'TEXT', 'body': 'Is this a text answer?', 'notes': ['Yes']}, {'type': 'NUMERIC', 'body': \"What's the derivative of z (z'), with respect to x, of z = 4y+x?\", 'answer': '1', 'notes': []}, {'type': 'MULTIPLE_CHOICE', 'body': 'What is the derivative of \\\\( \\\\sin(x) \\\\)?', 'answers': ['\\\\( -\\\\cos(x) \\\\).', '\\\\( \\\\tan(x) \\\\).', '\\\\( \\\\cos(x) \\\\).'], 'answer': ['\\\\( \\\\cos(x) \\\\).'], 'notes': ['The derivative of \\\\( \\\\sin(x) \\\\) is \\\\( \\\\cos(x) \\\\).']}]\n"
     ]
    }
   ],
   "source": [
    "from ipyquizjb import display_json\n",
    " \n",
    "test_json = r\"\"\"{\n",
    "  \"questions\": [\n",
    "    {\n",
    "      \"type\": \"MULTIPLE_CHOICE\",\n",
    "      \"body\": \"What is the derivative of \\\\( \\\\sin(x) \\\\)?\",\n",
    "      \"answers\": [\n",
    "        \"\\\\( -\\\\cos(x) \\\\).\",\n",
    "        \"\\\\( \\\\tan(x) \\\\).\",\n",
    "        \"\\\\( \\\\cos(x) \\\\).\"\n",
    "      ],\n",
    "      \"answer\": [\"\\\\( \\\\cos(x) \\\\).\"],\n",
    "      \"notes\": [\"The derivative of \\\\( \\\\sin(x) \\\\) is \\\\( \\\\cos(x) \\\\).\"]\n",
    "    },\n",
    "    {\n",
    "      \"type\": \"NUMERIC\",\n",
    "      \"body\": \"What's the derivative of z (z'), with respect to x, of z = 4y+x?\",\n",
    "      \"answer\": \"1\",\n",
    "      \"notes\": []\n",
    "    },\n",
    "    {\n",
    "      \"type\": \"TEXT\",\n",
    "      \"body\": \"Is this a text answer?\",\n",
    "      \"notes\": [\"Yes\"]\n",
    "    }\n",
    "  ],\n",
    "  \"additional_material\": \n",
    "    {\n",
    "      \"type\": \"TEXT\",\n",
    "      \"body\": \"This is a text additional material.\"\n",
    "    }\n",
    "  ,\n",
    "  \"status\": \"success\"\n",
    "}\"\"\"\n",
    " \n",
    "display_json(test_json, as_group=True)"
   ]
  },
  {
   "cell_type": "code",
   "execution_count": null,
   "metadata": {},
   "outputs": [],
   "source": []
  }
 ],
 "metadata": {
  "kernelspec": {
   "display_name": ".venv",
   "language": "python",
   "name": "python3"
  },
  "language_info": {
   "codemirror_mode": {
    "name": "ipython",
    "version": 3
   },
   "file_extension": ".py",
   "mimetype": "text/x-python",
   "name": "python",
   "nbconvert_exporter": "python",
   "pygments_lexer": "ipython3",
   "version": "3.12.0"
  }
 },
 "nbformat": 4,
 "nbformat_minor": 2
}
