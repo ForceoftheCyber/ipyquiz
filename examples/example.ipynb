{
 "cells": [
  {
   "cell_type": "code",
   "execution_count": 1,
   "metadata": {},
   "outputs": [],
   "source": [
    "from ipyquizjb.faceit import display_simple_search\n",
    "\n",
    "#display_simple_search(\"math\", 2)"
   ]
  },
  {
   "cell_type": "code",
   "execution_count": 2,
   "metadata": {},
   "outputs": [
    {
     "name": "stdout",
     "output_type": "stream",
     "text": [
      "[{'type': 'TEXT', 'body': 'Si consideri il segnale a tempo continuo $x(t)$ della seguente figura, dove la griglia \\\\\\'e unitaria.\\r\\n\\r\\n<script type=\"text/tikz\">\\\\begin{tikzpicture}\\r\\n            \\\\draw[thin, gray!40] (-4,-1) grid (4,2);\\r\\n            \\\\draw[-latex] (-4,0) -- (4,0) node[anchor=north west] {$t$} ;\\r\\n            \\\\draw[-latex] (0,-1) -- (0,2) node[anchor=north west, color=blue] {$x(t)$};\\r\\n            \\\\draw[blue, very thick] (-4,0) -- (-2,0) -- (-1,1) -- (1,1) -- (2,0) -- (4,0);\\r\\n        \\\\end{tikzpicture}</script>\\r\\n\\r\\nCalcolare la trasformata di Fourier $X(f)$ (suggerimento: si pensi a come ottenere questo segnale come opportuna convoluzione di segnali conosciuti).', 'notes': [\"Relativamente al primo punto, notiamo che quel segnale trapezoidale si puo' ottenere come convoluzione di due \\\\texttt{rect} di lunghezza diversa e centrati in $t = 0$, piu' specificatamente uno di lunghezza 2 ed uno di lunghezza 1. La trasformata di Fourier di $x(t)$ e' quindi i prodotto dei due diversi \\\\texttt{sinc} che corrispondono ai due diversi \\\\texttt{rect}. In formule,\"]}, {'type': 'TEXT', 'body': 'Si consideri lo schema a blocchi mostrato nella figura sotto, e si supponga\\r\\n\\t\\t$$\\r\\n\\t\\t\\tC(s)=\\\\frac{K}{s},\\\\quad G(s)=\\\\frac{s+3}{s}. \\r\\n\\t\\t$$\\r\\n\\r\\n\\t\\t<script type=\"text/tikz\">\\\\begin{tikzpicture}\\r\\n\\t\\t[\\r\\n\\t\\t\\txscale\\t= 1,\\t% to scale horizontally everything but the text\\r\\n\\t\\t\\tyscale\\t= 1,\\t% to scale vertically everything but the text\\r\\n\\t\\t\\tLinesStyle/.style = {-latex, draw},\\r\\n\\t\\t]\\r\\n\\r\\n\\t\\t% ------------------------------------------------------\\r\\n\\t\\t% NODES DEFINITION\\r\\n\\t\\t\\\\matrix\\r\\n\\t\\t[\\r\\n\\t\\t\\trow sep\\t\\t= 1cm,\\r\\n\\t\\t\\tcolumn sep\\t= 1cm,\\r\\n\\t\\t\\tBlocksStyle/.style = {rectangle, draw, minimum height = 0.7cm, minimum width = 1.2cm},\\r\\n\\t\\t\\tSumNodesStyle/.style = {circle, draw, minimum size = 0.3cm},\\r\\n\\t\\t]\\r\\n\\t\\t{\\r\\n\\t\\t\\t% ------------------------------ row 1\\r\\n\\t\\t\\t\\\\node (reference) {$r(t)$}; &\\r\\n\\t\\t\\t\\\\node (sumNode) [SumNodesStyle] {}; &\\r\\n\\t\\t\\t\\\\node (controller) [BlocksStyle] {$C(s)$}; &\\r\\n\\t\\t\\t\\\\node (plant) [BlocksStyle] {$G(s)$}; &\\r\\n\\t\\t\\t\\\\node (output) {$y(t)$}; \\\\\\\\\\r\\n\\t\\t\\t%\\r\\n\\t\\t\\t%\\r\\n\\t\\t\\t% ------------------------------ row 2\\r\\n\\t\\t\\t&\\r\\n\\t\\t\\t&\\r\\n\\t\\t\\t\\\\node (filter) [coordinate] {}; &\\r\\n\\t\\t\\t&\\r\\n\\t\\t\\t\\\\\\\\\\r\\n\\t\\t};\\r\\n\\r\\n\\t\\t% ------------------------------------------------------\\r\\n\\t\\t% PATHS\\r\\n\\t\\t\\\\draw [LinesStyle] (reference) -- (sumNode) node [near end, above] {$+$};\\r\\n\\t\\t\\\\draw [LinesStyle] (sumNode) -- (controller) node [midway, above] {$e(t)$};\\r\\n\\t\\t\\\\draw [LinesStyle] (controller) -- (plant) node [midway, above] {$u(t)$};\\r\\n\\t\\t\\\\draw [LinesStyle] (filter) -| (sumNode) node [at end, below left] {$-$};\\r\\n\\t\\t\\\\draw [LinesStyle] (plant) -- (output);\\r\\n\\t\\t\\\\draw [LinesStyle, -] (plant.east)++(0.4cm,0cm) |- (filter);\\r\\n\\r\\n\\t\\t\\\\end{tikzpicture}</script>\\r\\n\\r\\n\\r\\n        Calcolare quanti e quali sono i punti doppi del luogo dei poli in catena chiusa, e per ognuno di questi punti doppi trovare gli eventualmente rimanenti punti del luogo.', 'notes': [\"Per quanto riguarda i punti doppi consideriamo innanzitutto che il denominatore della funzione di trasferimento in catena chiusa \\\\'e dato da $s^2+K(s+3)$.\\r\\n\\r\\n            Questo implica che il sistema che determina quali siano i punti doppi del luogo \\\\'e\\r\\n            $$\\r\\n            \\\\begin{cases}\\r\\n                s^2+Ks+3K=0 \\\\\\\\\\r\\n                2s+K=0\\r\\n            \\\\end{cases}\\r\\n            $$\\r\\n            e dalla seconda equazione si ottiene $K=-2s$, che sostituita nella prima d\\\\'a $s^2-2s^2-6s=0$.\\r\\n\\r\\n            Le soluzioni sono dunque $s = 0$ e $s = -6$, che ritornano $K = 0$ (non accettabile per il luogo positivo) e $K = 12$.\"]}]\n"
     ]
    },
    {
     "data": {
      "application/vnd.jupyter.widget-view+json": {
       "model_id": "1f024659b9d142deac709df010713e1f",
       "version_major": 2,
       "version_minor": 0
      },
      "text/plain": [
       "VBox(children=(VBox(children=(VBox(children=(HTMLMath(value='<h3>Si consideri il segnale a tempo continuo $x(t…"
      ]
     },
     "metadata": {},
     "output_type": "display_data"
    }
   ],
   "source": [
    "display_simple_search(\"consideri\", 2)"
   ]
  },
  {
   "cell_type": "code",
   "execution_count": 1,
   "metadata": {},
   "outputs": [
    {
     "data": {
      "application/vnd.jupyter.widget-view+json": {
       "model_id": "6084f0cfb9d84ad3b01bf4b25fc18922",
       "version_major": 2,
       "version_minor": 0
      },
      "text/plain": [
       "VBox(children=(VBox(children=(HTMLMath(value='<h3>What is the derivative of \\\\( \\\\sin(x) \\\\)?</h3>'), HTMLMath…"
      ]
     },
     "metadata": {},
     "output_type": "display_data"
    },
    {
     "data": {
      "application/vnd.jupyter.widget-view+json": {
       "model_id": "24a52c9efadd4713bd481823f4f77831",
       "version_major": 2,
       "version_minor": 0
      },
      "text/plain": [
       "VBox(children=(VBox(children=(HTMLMath(value=\"<h3>What's the derivative of z (z'), with respect to x, of z = 4…"
      ]
     },
     "metadata": {},
     "output_type": "display_data"
    },
    {
     "data": {
      "application/vnd.jupyter.widget-view+json": {
       "model_id": "3b9a55ade02d4675b3a2bab98c21d1bd",
       "version_major": 2,
       "version_minor": 0
      },
      "text/plain": [
       "VBox(children=(HTMLMath(value=\"<h3>What's the derivative of z (z'), with respect to x, of z = 4y+x?</h3>\"), Bu…"
      ]
     },
     "metadata": {},
     "output_type": "display_data"
    }
   ],
   "source": [
    "from ipyquizjb import display_json\n",
    "\n",
    "test_json = r\"\"\"{\n",
    "  \"questions\": [\n",
    "    {\n",
    "      \"type\": \"MULTIPLE_CHOICE\",\n",
    "      \"body\": \"What is the derivative of \\\\( \\\\sin(x) \\\\)?\",\n",
    "      \"answers\": [\n",
    "        \"\\\\( -\\\\cos(x) \\\\).\",\n",
    "        \"\\\\( \\\\tan(x) \\\\).\",\n",
    "        \"\\\\( \\\\cos(x) \\\\).\"\n",
    "      ],\n",
    "      \"answer\": [\"\\\\( \\\\cos(x) \\\\).\"],\n",
    "      \"notes\": [\"The derivative of \\\\( \\\\sin(x) \\\\) is \\\\( \\\\cos(x) \\\\).\"]\n",
    "    },\n",
    "    {\n",
    "      \"type\": \"NUMERIC\",\n",
    "      \"body\": \"What's the derivative of z (z'), with respect to x, of z = 4y+x?\",\n",
    "      \"answer\": \"1\",\n",
    "      \"notes\": []\n",
    "    },\n",
    "    {\n",
    "      \"type\": \"TEXT\",\n",
    "      \"body\": \"What's the derivative of z (z'), with respect to x, of z = 4y+x?\",\n",
    "      \"answer\": [\"FSDfjkjl\"],\n",
    "      \"notes\": [\"FSdf\"]\n",
    "    }\n",
    "  ],\n",
    "  \"status\": \"success\"\n",
    "}\"\"\"\n",
    "\n",
    "display_json(test_json, as_group=False)"
   ]
  },
  {
   "cell_type": "code",
   "execution_count": null,
   "metadata": {},
   "outputs": [],
   "source": []
  }
 ],
 "metadata": {
  "kernelspec": {
   "display_name": ".venv",
   "language": "python",
   "name": "python3"
  },
  "language_info": {
   "codemirror_mode": {
    "name": "ipython",
    "version": 3
   },
   "file_extension": ".py",
   "mimetype": "text/x-python",
   "name": "python",
   "nbconvert_exporter": "python",
   "pygments_lexer": "ipython3",
   "version": "3.12.0"
  }
 },
 "nbformat": 4,
 "nbformat_minor": 2
}
